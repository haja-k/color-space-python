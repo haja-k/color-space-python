{
 "cells": [
  {
   "cell_type": "code",
   "execution_count": null,
   "id": "353fb2b9",
   "metadata": {},
   "outputs": [],
   "source": [
    "import io\n",
    "import os\n",
    "import json\n",
    "import pandas as pd\n",
    "import numpy as np\n",
    "from IPython.display import Image"
   ]
  },
  {
   "cell_type": "code",
   "execution_count": null,
   "id": "f6fe6e28",
   "metadata": {},
   "outputs": [],
   "source": [
    "# Imports the Google Cloud client library\n",
    "from google.cloud import vision"
   ]
  },
  {
   "cell_type": "code",
   "execution_count": null,
   "id": "ff2df031",
   "metadata": {},
   "outputs": [],
   "source": [
    "os.environ[\"GOOGLE_APPLICATION_CREDENTIALS\"]=\"../ocr/igneous-stone-338706-bcdcebad51fa.json\""
   ]
  },
  {
   "cell_type": "code",
   "execution_count": null,
   "id": "2b621426",
   "metadata": {},
   "outputs": [],
   "source": [
    "# Instantiates a client\n",
    "client = vision.ImageAnnotatorClient()\n",
    "\n",
    "# The name of the image file to annotate\n",
    "file_name = os.path.abspath('../ocr/img/sitirohaya_mykadfront.jpeg')"
   ]
  },
  {
   "cell_type": "code",
   "execution_count": null,
   "id": "20033692",
   "metadata": {},
   "outputs": [],
   "source": [
    "Image('../ocr/img/sitirohaya_mykadfront.jpeg')"
   ]
  },
  {
   "cell_type": "code",
   "execution_count": null,
   "id": "c7160f4b",
   "metadata": {},
   "outputs": [],
   "source": [
    "# Loads the image into memory\n",
    "with io.open(file_name, 'rb') as image_file:\n",
    "    content = image_file.read()\n",
    "\n",
    "image = vision.Image(content=content)"
   ]
  },
  {
   "cell_type": "code",
   "execution_count": null,
   "id": "e630845a",
   "metadata": {},
   "outputs": [],
   "source": [
    "# Performs label detection on the image file\n",
    "response = client.label_detection(image=image)\n",
    "labels = response.label_annotations"
   ]
  },
  {
   "cell_type": "code",
   "execution_count": null,
   "id": "879cffc3",
   "metadata": {},
   "outputs": [],
   "source": [
    "response = client.text_detection(image=image)    \n",
    "texts = response.text_annotations  "
   ]
  },
  {
   "cell_type": "code",
   "execution_count": null,
   "id": "a5c14104",
   "metadata": {},
   "outputs": [],
   "source": [
    "response"
   ]
  },
  {
   "cell_type": "code",
   "execution_count": null,
   "id": "84733c77",
   "metadata": {
    "scrolled": false
   },
   "outputs": [],
   "source": [
    "print('Texts:')    \n",
    "for text in texts:        \n",
    "    print('\\n\"{}\"'.format(text.description))        \n",
    "    vertices = (['({},{})'.format(vertex.x, vertex.y)                    \n",
    "                for vertex in text.bounding_poly.vertices])        \n",
    "    print('bounds: {}'.format(','.join(vertices))) "
   ]
  },
  {
   "cell_type": "code",
   "execution_count": null,
   "id": "06467190",
   "metadata": {},
   "outputs": [],
   "source": [
    "print('Labels:')\n",
    "for label in labels:\n",
    "    print(label.description)"
   ]
  },
  {
   "cell_type": "code",
   "execution_count": null,
   "id": "2fec1f7e",
   "metadata": {},
   "outputs": [],
   "source": []
  },
  {
   "cell_type": "code",
   "execution_count": null,
   "id": "2275a09a",
   "metadata": {},
   "outputs": [],
   "source": []
  }
 ],
 "metadata": {
  "kernelspec": {
   "display_name": "Python 3 (ipykernel)",
   "language": "python",
   "name": "python3"
  },
  "language_info": {
   "codemirror_mode": {
    "name": "ipython",
    "version": 3
   },
   "file_extension": ".py",
   "mimetype": "text/x-python",
   "name": "python",
   "nbconvert_exporter": "python",
   "pygments_lexer": "ipython3",
   "version": "3.7.9"
  }
 },
 "nbformat": 4,
 "nbformat_minor": 5
}
