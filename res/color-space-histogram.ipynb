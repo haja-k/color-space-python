{
 "cells": [
  {
   "cell_type": "code",
   "execution_count": null,
   "metadata": {},
   "outputs": [],
   "source": [
    "import numpy as np\n",
    "import argparse\n",
    "from cv2 import cv2\n",
    "import os, glob\n",
    "import matplotlib.pyplot as plt\n",
    "from matplotlib.colors import LogNorm\n",
    "from PIL import Image\n",
    "import tensorflow as tf\n",
    "from tensorflow import keras"
   ]
  },
  {
   "cell_type": "code",
   "execution_count": null,
   "metadata": {},
   "outputs": [],
   "source": [
    "# fake = cv2.imread('../dataset/fake/1.png')\n",
    "real = cv2.imread('../dataset/real/2.png')\n",
    "(row, col) = real.shape[0:2]\n",
    "h, w, c = real.shape\n",
    "\n",
    "print(\"Dimensions of the image is: Height:\", h, \"Width:\", w, \"Number of Channels:\", c)\n",
    "plt.imshow(real)"
   ]
  },
  {
   "cell_type": "code",
   "execution_count": null,
   "metadata": {},
   "outputs": [],
   "source": [
    "# dataset = keras.preprocessing.image_dataset_from_directory(\n",
    "#   '../dataset/', batch_size=64, image_size=(200, 200))\n",
    "\n",
    "# for data, labels in dataset:\n",
    "#    print(data.shape)  \n",
    "#    print(data.dtype)\n",
    "#    print(labels.shape) \n",
    "#    print(labels.dtype)"
   ]
  },
  {
   "cell_type": "code",
   "execution_count": null,
   "metadata": {},
   "outputs": [],
   "source": [
    "img = tf.keras.preprocessing.image.array_to_img(real)\n",
    "array = tf.keras.preprocessing.image.img_to_array(img)\n",
    "print(array)"
   ]
  },
  {
   "cell_type": "code",
   "execution_count": null,
   "metadata": {},
   "outputs": [],
   "source": [
    "# normalize to present as float\n",
    "k = array / 255.0\n",
    "print(k)"
   ]
  },
  {
   "cell_type": "code",
   "execution_count": null,
   "metadata": {
    "scrolled": true
   },
   "outputs": [],
   "source": [
    "# brightLAB = cv2.cvtColor(k, cv2.COLOR_BGR2LAB)\n",
    "# plt.imshow(brightLAB)"
   ]
  },
  {
   "cell_type": "code",
   "execution_count": null,
   "metadata": {},
   "outputs": [],
   "source": [
    "# brightYCB = cv2.cvtColor(k, cv2.COLOR_BGR2YCrCb)\n",
    "# plt.imshow(brightYCB)"
   ]
  },
  {
   "cell_type": "code",
   "execution_count": null,
   "metadata": {
    "scrolled": true
   },
   "outputs": [],
   "source": [
    "# brightHSV = cv2.cvtColor(k, cv2.COLOR_BGR2HSV)\n",
    "# plt.imshow(brightHSV)"
   ]
  },
  {
   "cell_type": "markdown",
   "metadata": {},
   "source": [
    "### Histogram plotting"
   ]
  },
  {
   "cell_type": "code",
   "execution_count": null,
   "metadata": {},
   "outputs": [],
   "source": [
    "B = np.array([])\n",
    "G = np.array([])\n",
    "R = np.array([])\n",
    "\n",
    "b = k[:,:,0]\n",
    "b = b.reshape(b.shape[0]*b.shape[1])\n",
    "g = k[:,:,1]\n",
    "g = g.reshape(g.shape[0]*g.shape[1])\n",
    "r = k[:,:,2]\n",
    "r = r.reshape(r.shape[0]*r.shape[1])\n",
    "B = np.append(B,b)\n",
    "G = np.append(G,g)\n",
    "R = np.append(R,r)\n",
    "\n",
    "print(B)\n",
    "print(G)\n",
    "print(R)\n",
    "print(k.shape)"
   ]
  },
  {
   "cell_type": "code",
   "execution_count": null,
   "metadata": {},
   "outputs": [],
   "source": [
    "nbins = 10\n",
    "plt.figure(figsize=[20,10])\n",
    "\n",
    "plt.subplot(2,3,2)\n",
    "plt.hist2d(B, R, bins=nbins, norm=LogNorm())\n",
    "plt.colorbar()\n",
    "plt.xlabel('B')\n",
    "plt.ylabel('R')\n",
    "plt.title('RGB')\n",
    "\n",
    "plt.subplot(2,3,1)\n",
    "plt.hist2d(B, G, bins=nbins, norm=LogNorm())\n",
    "plt.colorbar()\n",
    "plt.xlabel('B')\n",
    "plt.ylabel('G')\n",
    "plt.title('RGB')\n",
    "\n",
    "plt.subplot(2,3,3)\n",
    "plt.hist2d(R, G, bins=nbins, norm=LogNorm())\n",
    "plt.colorbar()\n",
    "plt.xlabel('R')\n",
    "plt.ylabel('G')\n",
    "plt.title('RGB')\n"
   ]
  },
  {
   "cell_type": "code",
   "execution_count": null,
   "metadata": {
    "scrolled": true
   },
   "outputs": [],
   "source": [
    "plt.figure(figsize=[20,10])\n",
    "plt.subplot2grid((2,3), (0,0), colspan=3)\n",
    "plt.plot(B)"
   ]
  },
  {
   "cell_type": "code",
   "execution_count": null,
   "metadata": {
    "scrolled": true
   },
   "outputs": [],
   "source": [
    "plt.figure(figsize=[20,10])\n",
    "plt.subplot2grid((2,3), (0,0), colspan=3)\n",
    "plt.plot(G)"
   ]
  },
  {
   "cell_type": "code",
   "execution_count": null,
   "metadata": {},
   "outputs": [],
   "source": [
    "plt.figure(figsize=[20,10])\n",
    "plt.subplot2grid((2,3), (0,0), colspan=3)\n",
    "plt.plot(R)"
   ]
  },
  {
   "cell_type": "code",
   "execution_count": null,
   "metadata": {},
   "outputs": [],
   "source": [
    "H = np.array([])\n",
    "S = np.array([])\n",
    "V = np.array([])\n",
    "\n",
    "hsv = cv2.cvtColor(k,cv2.COLOR_BGR2HSV)\n",
    "h = hsv[:,:,0]\n",
    "h = h.reshape(h.shape[0]*h.shape[1])\n",
    "s = hsv[:,:,1]\n",
    "s = s.reshape(s.shape[0]*s.shape[1])\n",
    "v = hsv[:,:,2]\n",
    "v = v.reshape(v.shape[0]*v.shape[1])\n",
    "H = np.append(H,h)\n",
    "S = np.append(S,s)\n",
    "V = np.append(V,v)"
   ]
  },
  {
   "cell_type": "code",
   "execution_count": null,
   "metadata": {},
   "outputs": [],
   "source": [
    "plt.figure(figsize=[20,10])\n",
    "plt.subplot(2,3,4)\n",
    "plt.hist2d(H, S, bins=nbins, norm=LogNorm())\n",
    "plt.colorbar()\n",
    "plt.xlabel('H')\n",
    "plt.ylabel('S')\n",
    "plt.title('HSV')"
   ]
  },
  {
   "cell_type": "code",
   "execution_count": null,
   "metadata": {},
   "outputs": [],
   "source": [
    "plt.figure(figsize=[20,10])\n",
    "plt.subplot2grid((2,3), (0,0), colspan=3)\n",
    "plt.plot(H)\n",
    "print(H)"
   ]
  },
  {
   "cell_type": "code",
   "execution_count": null,
   "metadata": {
    "scrolled": true
   },
   "outputs": [],
   "source": [
    "plt.figure(figsize=[20,10])\n",
    "plt.subplot2grid((2,3), (0,0), colspan=3)\n",
    "plt.plot(S)\n",
    "print(S)"
   ]
  },
  {
   "cell_type": "code",
   "execution_count": null,
   "metadata": {},
   "outputs": [],
   "source": [
    "plt.figure(figsize=[20,10])\n",
    "plt.subplot2grid((2,3), (0,0), colspan=3)\n",
    "plt.plot(V)\n",
    "print(V)"
   ]
  },
  {
   "cell_type": "code",
   "execution_count": null,
   "metadata": {},
   "outputs": [],
   "source": [
    "Y = np.array([])\n",
    "Cr = np.array([])\n",
    "Cb = np.array([])\n",
    "\n",
    "ycb = cv2.cvtColor(k,cv2.COLOR_BGR2YCrCb)\n",
    "y = ycb[:,:,0]\n",
    "y = y.reshape(y.shape[0]*y.shape[1])\n",
    "cr = ycb[:,:,1]\n",
    "cr = cr.reshape(cr.shape[0]*cr.shape[1])\n",
    "cb = ycb[:,:,2]\n",
    "cb = cb.reshape(cb.shape[0]*cb.shape[1])\n",
    "Y = np.append(Y,y)\n",
    "Cr = np.append(Cr,cr)\n",
    "Cb = np.append(Cb,cb)"
   ]
  },
  {
   "cell_type": "code",
   "execution_count": null,
   "metadata": {
    "scrolled": true
   },
   "outputs": [],
   "source": [
    "plt.figure(figsize=[20,10])\n",
    "plt.subplot(2,3,5)\n",
    "plt.hist2d(Cr, Cb, bins=nbins, norm=LogNorm())\n",
    "plt.colorbar()\n",
    "plt.xlabel('Cr')\n",
    "plt.ylabel('Cb')\n",
    "plt.title('YCrCb')"
   ]
  },
  {
   "cell_type": "code",
   "execution_count": null,
   "metadata": {
    "scrolled": true
   },
   "outputs": [],
   "source": [
    "plt.figure(figsize=[20,10])\n",
    "plt.subplot2grid((2,3), (0,0), colspan=3)\n",
    "plt.plot(Cr)\n",
    "print(Cr)"
   ]
  },
  {
   "cell_type": "code",
   "execution_count": null,
   "metadata": {},
   "outputs": [],
   "source": [
    "plt.figure(figsize=[20,10])\n",
    "plt.subplot2grid((2,3), (0,0), colspan=3)\n",
    "plt.plot(Cb)\n",
    "print(Cb)"
   ]
  },
  {
   "cell_type": "code",
   "execution_count": null,
   "metadata": {},
   "outputs": [],
   "source": [
    "LL = np.array([])\n",
    "LA = np.array([])\n",
    "LB = np.array([])\n",
    "\n",
    "lab = cv2.cvtColor(k,cv2.COLOR_BGR2LAB)\n",
    "ll = lab[:,:,0]\n",
    "ll = ll.reshape(ll.shape[0]*ll.shape[1])\n",
    "la = lab[:,:,1]\n",
    "la = la.reshape(la.shape[0]*la.shape[1])\n",
    "lb = lab[:,:,2]\n",
    "lb = lb.reshape(lb.shape[0]*lb.shape[1])\n",
    "LL = np.append(LL,ll)\n",
    "LA = np.append(LA,la)\n",
    "LB = np.append(LB,lb)"
   ]
  },
  {
   "cell_type": "code",
   "execution_count": null,
   "metadata": {
    "scrolled": true
   },
   "outputs": [],
   "source": [
    "plt.figure(figsize=[20,10])\n",
    "plt.subplot(2,3,6)\n",
    "plt.hist2d(LA, LB, bins=nbins, norm=LogNorm())\n",
    "plt.colorbar()\n",
    "plt.xlabel('A')\n",
    "plt.ylabel('B')\n",
    "plt.title('LAB')"
   ]
  },
  {
   "cell_type": "code",
   "execution_count": null,
   "metadata": {},
   "outputs": [],
   "source": [
    "plt.figure(figsize=[20,10])\n",
    "plt.subplot2grid((2,3), (0,0), colspan=3)\n",
    "plt.plot(LA)\n",
    "print(LA)"
   ]
  },
  {
   "cell_type": "code",
   "execution_count": null,
   "metadata": {},
   "outputs": [],
   "source": [
    "plt.figure(figsize=[20,10])\n",
    "plt.subplot2grid((2,3), (0,0), colspan=3)\n",
    "plt.plot(LB)\n",
    "print(LB)"
   ]
  },
  {
   "cell_type": "code",
   "execution_count": null,
   "metadata": {},
   "outputs": [],
   "source": []
  }
 ],
 "metadata": {
  "interpreter": {
   "hash": "f03c8f38996dce1746eb665a6eab3e92b22fe748ed9d2881fcdc75c24bcaf733"
  },
  "kernelspec": {
   "display_name": "Python 3 (ipykernel)",
   "language": "python",
   "name": "python3"
  },
  "language_info": {
   "codemirror_mode": {
    "name": "ipython",
    "version": 3
   },
   "file_extension": ".py",
   "mimetype": "text/x-python",
   "name": "python",
   "nbconvert_exporter": "python",
   "pygments_lexer": "ipython3",
   "version": "3.7.9"
  }
 },
 "nbformat": 4,
 "nbformat_minor": 2
}
