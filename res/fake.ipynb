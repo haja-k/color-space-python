{
 "cells": [
  {
   "cell_type": "markdown",
   "metadata": {},
   "source": [
    "## Face Extraction\n",
    "- working with only one file at a time moment"
   ]
  },
  {
   "cell_type": "code",
   "execution_count": null,
   "metadata": {},
   "outputs": [],
   "source": [
    "import numpy as np\n",
    "import argparse\n",
    "from cv2 import cv2\n",
    "import os\n",
    "import glob"
   ]
  },
  {
   "cell_type": "code",
   "execution_count": null,
   "metadata": {
    "scrolled": true
   },
   "outputs": [],
   "source": [
    "print(\"[INFO] loading face detector...\")\n",
    "protoPath = \"../res/face_detector/deploy.prototxt\" \n",
    "modelPath = \"../res/face_detector/res10_300x300_ssd_iter_140000.caffemodel\" \n",
    "net = cv2.dnn.readNetFromCaffe(protoPath, modelPath)"
   ]
  },
  {
   "cell_type": "code",
   "execution_count": null,
   "metadata": {},
   "outputs": [],
   "source": [
    "with os.scandir(\"../data/fake/\") as it:\n",
    "    for entry in it:\n",
    "        if entry.name != \".DS_Store\" and entry.is_file():\n",
    "            vs = cv2.VideoCapture(entry.path)\n",
    "            vs.set(cv2.CAP_PROP_FPS, 60)\n",
    "            print(entry.name)\n",
    "\n",
    "            fake_file_path = \"../dataset/fake/*.png*\"\n",
    "\n",
    "            max_file_fullpath = (max(glob.glob(fake_file_path), key=os.path.getmtime))\n",
    "            max_file = os.path.basename(max_file_fullpath)\n",
    "            max_filename = int(max_file.split(\".\")[0])\n",
    "            read = 0\n",
    "            saved = max_filename+1 #manual\n",
    "            (grabbed, frame) = vs.read()\n",
    "            read += 1\n",
    "\n",
    "            (h, w) = frame.shape[:2]\n",
    "            blob = cv2.dnn.blobFromImage(cv2.resize(frame, (300, 300)), 1.0,\n",
    "                (300, 300), (104.0, 177.0, 123.0))\n",
    "            net.setInput(blob)\n",
    "            detections = net.forward()\n",
    "\n",
    "            if len(detections) > 0:\n",
    "                i = np.argmax(detections[0, 0, :, 2])\n",
    "                confidence = detections[0, 0, i, 2]\n",
    "\n",
    "                if confidence > 0.5:\n",
    "                    box = detections[0, 0, i, 3:7] * np.array([w, h, w, h])\n",
    "                    (startX, startY, endX, endY) = box.astype(\"int\")\n",
    "                    face = frame[startY:endY, startX:endX]\n",
    "\n",
    "                    p = os.path.sep.join(['../dataset/fake',\n",
    "                        \"{}.png\".format(saved)])\n",
    "                    cv2.imwrite(p, face)\n",
    "                    saved += 1\n",
    "                    print(\"[INFO] saved {} to disk\".format(p))"
   ]
  },
  {
   "cell_type": "code",
   "execution_count": null,
   "metadata": {},
   "outputs": [],
   "source": [
    "vs.release()\n",
    "cv2.destroyAllWindows()"
   ]
  },
  {
   "cell_type": "code",
   "execution_count": null,
   "metadata": {},
   "outputs": [],
   "source": []
  }
 ],
 "metadata": {
  "interpreter": {
   "hash": "65981a3d75d6deafcbdcc1419973435499a43617da3c77a53a836b8eaed42c95"
  },
  "kernelspec": {
   "display_name": "Python 3 (ipykernel)",
   "language": "python",
   "name": "python3"
  },
  "language_info": {
   "codemirror_mode": {
    "name": "ipython",
    "version": 3
   },
   "file_extension": ".py",
   "mimetype": "text/x-python",
   "name": "python",
   "nbconvert_exporter": "python",
   "pygments_lexer": "ipython3",
   "version": "3.7.9"
  }
 },
 "nbformat": 4,
 "nbformat_minor": 2
}
