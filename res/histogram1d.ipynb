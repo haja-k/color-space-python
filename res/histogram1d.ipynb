{
 "cells": [
  {
   "cell_type": "code",
   "execution_count": null,
   "id": "0904e952",
   "metadata": {},
   "outputs": [],
   "source": [
    "import numpy as np\n",
    "import sys\n",
    "import skimage.io\n",
    "from matplotlib import pyplot as plt\n",
    "from cv2 import cv2"
   ]
  },
  {
   "cell_type": "code",
   "execution_count": null,
   "id": "e61d6624",
   "metadata": {
    "scrolled": true
   },
   "outputs": [],
   "source": [
    "image = skimage.io.imread('../dataset/fake/17.png')\n",
    "image2 = skimage.io.imread('../dataset/real/839.png')\n",
    "skimage.io.imshow(image2)"
   ]
  },
  {
   "cell_type": "code",
   "execution_count": null,
   "id": "996a6f7e",
   "metadata": {
    "scrolled": true
   },
   "outputs": [],
   "source": [
    "img = image2\n",
    "b, g, r = img[:,:,0], img[:,:,1], img[:,:,2]\n",
    "hist_b = cv2.calcHist([b],[0],None,[256],[0,256])\n",
    "hist_g = cv2.calcHist([g],[0],None,[256],[0,256])\n",
    "hist_r = cv2.calcHist([r],[0],None,[256],[0,256])\n",
    "plt.plot(hist_r, color='r', label=\"r\")\n",
    "plt.plot(hist_g, color='g', label=\"g\")\n",
    "plt.plot(hist_b, color='b', label=\"b\")\n",
    "plt.legend()\n",
    "plt.show() "
   ]
  },
  {
   "cell_type": "markdown",
   "id": "e89d62a1",
   "metadata": {},
   "source": [
    "##### Histogram equalization \n",
    "link for reference: https://medium.com/@rndayala/image-histograms-in-opencv-40ee5969a3b7"
   ]
  },
  {
   "cell_type": "code",
   "execution_count": null,
   "id": "ce56526a",
   "metadata": {},
   "outputs": [],
   "source": [
    "channels = cv2.split(image2)\n",
    "eq_channels = []\n",
    "for ch, color in zip(channels, ['B', 'G', 'R']):\n",
    "    eq_channels.append(cv2.equalizeHist(ch))\n",
    "eq_image = cv2.merge(eq_channels)\n",
    "\n",
    "skimage.io.imshow(eq_image)"
   ]
  },
  {
   "cell_type": "code",
   "execution_count": null,
   "id": "ba2302d4",
   "metadata": {
    "scrolled": true
   },
   "outputs": [],
   "source": [
    "channels = ('b', 'g', 'r')\n",
    "for i, color in enumerate(channels):\n",
    "    histogram = cv2.calcHist([eq_image], [i], None, [256], [0, 256])\n",
    "    plt.plot(histogram, color=color)\n",
    "    plt.xlim([0, 256])\n",
    "plt.show()"
   ]
  },
  {
   "cell_type": "markdown",
   "id": "2bcb8005",
   "metadata": {},
   "source": [
    "### HSV Histogram"
   ]
  },
  {
   "cell_type": "code",
   "execution_count": null,
   "id": "1ffe903a",
   "metadata": {},
   "outputs": [],
   "source": [
    "img2 = cv2.cvtColor(img, cv2.COLOR_BGR2HSV)\n",
    "h, s, v = img2[:,:,0], img2[:,:,1], img2[:,:,2]\n",
    "hist_h = cv2.calcHist([h],[0],None,[256],[0,256])\n",
    "hist_s = cv2.calcHist([s],[0],None,[256],[0,256])\n",
    "hist_v = cv2.calcHist([v],[0],None,[256],[0,256])\n",
    "plt.plot(hist_h, color='r', label=\"h\")\n",
    "plt.plot(hist_s, color='g', label=\"s\")\n",
    "plt.plot(hist_v, color='b', label=\"v\")\n",
    "plt.legend()\n",
    "plt.show()"
   ]
  },
  {
   "cell_type": "markdown",
   "id": "8710fce2",
   "metadata": {},
   "source": [
    "### YCbCr Histogram"
   ]
  },
  {
   "cell_type": "code",
   "execution_count": null,
   "id": "aecfd7d3",
   "metadata": {},
   "outputs": [],
   "source": [
    "img2 = cv2.cvtColor(img, cv2.COLOR_BGR2YCrCb)\n",
    "Y, Cb, Cr = img2[:,:,0], img2[:,:,1], img2[:,:,2]\n",
    "hist_Y = cv2.calcHist([Y],[0],None,[256],[0,256])\n",
    "hist_Cb = cv2.calcHist([Cb],[0],None,[256],[0,256])\n",
    "hist_Cr = cv2.calcHist([Cr],[0],None,[256],[0,256])\n",
    "plt.plot(hist_Y, color='r', label=\"Y\")\n",
    "plt.plot(hist_Cb, color='g', label=\"Cb\")\n",
    "plt.plot(hist_Cr, color='b', label=\"Cr\")\n",
    "plt.legend()\n",
    "plt.show()"
   ]
  },
  {
   "cell_type": "markdown",
   "id": "30901c56",
   "metadata": {},
   "source": [
    "### LAB Histogram"
   ]
  },
  {
   "cell_type": "code",
   "execution_count": null,
   "id": "ed3e8bcd",
   "metadata": {},
   "outputs": [],
   "source": [
    "img2 = cv2.cvtColor(img, cv2.COLOR_BGR2LAB)\n",
    "l, a, b = img2[:,:,0], img2[:,:,1], img2[:,:,2]\n",
    "hist_l = cv2.calcHist([l],[0],None,[256],[0,256])\n",
    "hist_a = cv2.calcHist([a],[0],None,[256],[0,256])\n",
    "hist_b = cv2.calcHist([b],[0],None,[256],[0,256])\n",
    "plt.plot(hist_l, color='r', label=\"L\")\n",
    "plt.plot(hist_a, color='g', label=\"A\")\n",
    "plt.plot(hist_b, color='b', label=\"B\")\n",
    "plt.legend()\n",
    "plt.show()"
   ]
  },
  {
   "cell_type": "markdown",
   "id": "a92dfdc1",
   "metadata": {},
   "source": [
    "##### Histogram Concatenation"
   ]
  },
  {
   "cell_type": "code",
   "execution_count": null,
   "id": "9a36b172",
   "metadata": {
    "scrolled": false
   },
   "outputs": [],
   "source": [
    "\n",
    "plt.figure(figsize=(13, 7))\n",
    "\n",
    "hist_l = cv2.calcHist([l],[0],None,[256],[0,256])\n",
    "hist_a = cv2.calcHist([a],[0],None,[256],[0,256])\n",
    "hist_b = cv2.calcHist([b],[0],None,[256],[0,256])\n",
    "plt.plot(hist_l, color='orange', label=\"L\")\n",
    "plt.plot(hist_a, color='tan', label=\"A\")\n",
    "plt.plot(hist_b, color='navajowhite', label=\"B\")\n",
    "\n",
    "hist_Y = cv2.calcHist([Y],[0],None,[256],[0,256])\n",
    "hist_Cb = cv2.calcHist([Cb],[0],None,[256],[0,256])\n",
    "hist_Cr = cv2.calcHist([Cr],[0],None,[256],[0,256])\n",
    "plt.plot(hist_Y, color='slateblue', label=\"Y\")\n",
    "plt.plot(hist_Cb, color='lightseagreen', label=\"Cb\")\n",
    "plt.plot(hist_Cr, color='teal', label=\"Cr\")\n",
    "\n",
    "hist_h = cv2.calcHist([h],[0],None,[256],[0,256])\n",
    "hist_s = cv2.calcHist([s],[0],None,[256],[0,256])\n",
    "hist_v = cv2.calcHist([v],[0],None,[256],[0,256])\n",
    "plt.plot(hist_h, color='mediumvioletred', label=\"h\")\n",
    "plt.plot(hist_s, color='blueviolet', label=\"s\")\n",
    "plt.plot(hist_v, color='deeppink', label=\"v\")\n",
    "\n",
    "hist_b = cv2.calcHist([b],[0],None,[256],[0,256])\n",
    "hist_g = cv2.calcHist([g],[0],None,[256],[0,256])\n",
    "hist_r = cv2.calcHist([r],[0],None,[256],[0,256])\n",
    "plt.plot(hist_r, color='r', label=\"r\")\n",
    "plt.plot(hist_g, color='g', label=\"g\")\n",
    "plt.plot(hist_b, color='b', label=\"b\")\n",
    "\n",
    "plt.legend()\n",
    "plt.show()"
   ]
  },
  {
   "cell_type": "code",
   "execution_count": null,
   "id": "25fb4db7",
   "metadata": {},
   "outputs": [],
   "source": [
    "features = []           \n",
    "\n",
    "f = np.concatenate((hist_l,hist_a,hist_b,hist_Y,hist_Cb,hist_Cr,hist_h,hist_s,hist_v,hist_r,hist_g,hist_b)) \n",
    "arr = np.array(f).flatten()\n",
    "features.append(arr)\n",
    "\n",
    "plt.plot(arr, color='slateblue', label=\"r\")"
   ]
  }
 ],
 "metadata": {
  "kernelspec": {
   "display_name": "Python 3 (ipykernel)",
   "language": "python",
   "name": "python3"
  },
  "language_info": {
   "codemirror_mode": {
    "name": "ipython",
    "version": 3
   },
   "file_extension": ".py",
   "mimetype": "text/x-python",
   "name": "python",
   "nbconvert_exporter": "python",
   "pygments_lexer": "ipython3",
   "version": "3.7.9"
  }
 },
 "nbformat": 4,
 "nbformat_minor": 5
}
