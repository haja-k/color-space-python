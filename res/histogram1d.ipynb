{
 "cells": [
  {
   "cell_type": "code",
   "execution_count": null,
   "id": "0904e952",
   "metadata": {},
   "outputs": [],
   "source": [
    "import numpy as np\n",
    "import sys\n",
    "import skimage.io\n",
    "from matplotlib import pyplot as plt\n",
    "from cv2 import cv2\n",
    "import tensorflow as tf\n",
    "from tensorflow import keras"
   ]
  },
  {
   "cell_type": "code",
   "execution_count": null,
   "id": "e61d6624",
   "metadata": {
    "scrolled": true
   },
   "outputs": [],
   "source": [
    "image = skimage.io.imread('../dataset/fake/2.png')\n",
    "image2 = skimage.io.imread('../dataset/fake/1.png')\n",
    "skimage.io.imshow(image2)\n",
    "# skimage.io.imshow(image)\n",
    "\n",
    "# image2.shape"
   ]
  },
  {
   "cell_type": "code",
   "execution_count": null,
   "id": "1007b4e3",
   "metadata": {},
   "outputs": [],
   "source": [
    "rgb = image / 255.0\n",
    "rgb2 = image2 / 255.0"
   ]
  },
  {
   "cell_type": "code",
   "execution_count": null,
   "id": "509a37d6",
   "metadata": {
    "scrolled": true
   },
   "outputs": [],
   "source": [
    "# colors = (\"red\", \"green\", \"blue\")\n",
    "# channel_ids = (0, 1, 2)\n",
    "\n",
    "# plt.xlim([0, 256])\n",
    "# for channel_id, c in zip(channel_ids, colors):\n",
    "#     histogram, bin_edges = np.histogram(\n",
    "#         image2[:, :, channel_id], bins=256, range=(0, 256)\n",
    "#     )\n",
    "#     plt.plot(bin_edges[0:-1], histogram, color=c)\n",
    "\n",
    "# plt.xlabel(\"Color value\")\n",
    "# plt.ylabel(\"Pixels\")\n",
    "\n",
    "# plt.show()"
   ]
  },
  {
   "cell_type": "code",
   "execution_count": null,
   "id": "996a6f7e",
   "metadata": {},
   "outputs": [],
   "source": [
    "img = image2\n",
    "b, g, r = img[:,:,0], img[:,:,1], img[:,:,2]\n",
    "hist_b = cv2.calcHist([b],[0],None,[256],[0,256])\n",
    "hist_g = cv2.calcHist([g],[0],None,[256],[0,256])\n",
    "hist_r = cv2.calcHist([r],[0],None,[256],[0,256])\n",
    "plt.plot(hist_r, color='r', label=\"r\")\n",
    "plt.plot(hist_g, color='g', label=\"g\")\n",
    "plt.plot(hist_b, color='b', label=\"b\")\n",
    "plt.legend()\n",
    "plt.show() "
   ]
  },
  {
   "cell_type": "code",
   "execution_count": null,
   "id": "1ffe903a",
   "metadata": {},
   "outputs": [],
   "source": [
    "img2 = cv2.cvtColor(img, cv2.COLOR_BGR2HSV)\n",
    "h, s, v = img2[:,:,0], img2[:,:,1], img2[:,:,2]\n",
    "hist_h = cv2.calcHist([h],[0],None,[256],[0,256])\n",
    "hist_s = cv2.calcHist([s],[0],None,[256],[0,256])\n",
    "hist_v = cv2.calcHist([v],[0],None,[256],[0,256])\n",
    "plt.plot(hist_h, color='r', label=\"h\")\n",
    "plt.plot(hist_s, color='g', label=\"s\")\n",
    "plt.plot(hist_v, color='b', label=\"v\")\n",
    "plt.legend()\n",
    "plt.show()"
   ]
  },
  {
   "cell_type": "code",
   "execution_count": null,
   "id": "aecfd7d3",
   "metadata": {},
   "outputs": [],
   "source": [
    "img2 = cv2.cvtColor(img, cv2.COLOR_BGR2YCrCb)\n",
    "Y, Cb, Cr = img2[:,:,0], img2[:,:,1], img2[:,:,2]\n",
    "hist_Y = cv2.calcHist([Y],[0],None,[256],[0,256])\n",
    "hist_Cb = cv2.calcHist([Cb],[0],None,[256],[0,256])\n",
    "hist_Cr = cv2.calcHist([Cr],[0],None,[256],[0,256])\n",
    "plt.plot(hist_Y, color='r', label=\"Y\")\n",
    "plt.plot(hist_Cb, color='g', label=\"Cb\")\n",
    "plt.plot(hist_Cr, color='b', label=\"Cr\")\n",
    "plt.legend()\n",
    "plt.show()"
   ]
  },
  {
   "cell_type": "code",
   "execution_count": null,
   "id": "ed3e8bcd",
   "metadata": {},
   "outputs": [],
   "source": [
    "img2 = cv2.cvtColor(img, cv2.COLOR_BGR2LAB)\n",
    "l, a, b = img2[:,:,0], img2[:,:,1], img2[:,:,2]\n",
    "hist_l = cv2.calcHist([l],[0],None,[256],[0,256])\n",
    "hist_a = cv2.calcHist([a],[0],None,[256],[0,256])\n",
    "hist_b = cv2.calcHist([b],[0],None,[256],[0,256])\n",
    "plt.plot(hist_l, color='r', label=\"Y\")\n",
    "plt.plot(hist_a, color='g', label=\"Cb\")\n",
    "plt.plot(hist_b, color='b', label=\"Cr\")\n",
    "plt.legend()\n",
    "plt.show()"
   ]
  },
  {
   "cell_type": "code",
   "execution_count": null,
   "id": "a18f205b",
   "metadata": {},
   "outputs": [],
   "source": []
  }
 ],
 "metadata": {
  "kernelspec": {
   "display_name": "Python 3 (ipykernel)",
   "language": "python",
   "name": "python3"
  },
  "language_info": {
   "codemirror_mode": {
    "name": "ipython",
    "version": 3
   },
   "file_extension": ".py",
   "mimetype": "text/x-python",
   "name": "python",
   "nbconvert_exporter": "python",
   "pygments_lexer": "ipython3",
   "version": "3.7.9"
  }
 },
 "nbformat": 4,
 "nbformat_minor": 5
}
