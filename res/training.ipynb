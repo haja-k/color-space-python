{
 "cells": [
  {
   "cell_type": "code",
   "execution_count": 1,
   "id": "ffebc049",
   "metadata": {},
   "outputs": [],
   "source": [
    "import matplotlib\n",
    "# matplotlib.use(\"Agg\")"
   ]
  },
  {
   "cell_type": "code",
   "execution_count": 2,
   "id": "12ef0614",
   "metadata": {},
   "outputs": [],
   "source": [
    "from ok.mask import LivenessNet\n",
    "from sklearn.preprocessing import LabelEncoder\n",
    "from sklearn.model_selection import train_test_split\n",
    "from sklearn.metrics import classification_report\n",
    "from tensorflow.keras.preprocessing.image import ImageDataGenerator\n",
    "from tensorflow.keras.optimizers import Adam\n",
    "from tensorflow.keras.utils import to_categorical\n",
    "from imutils import paths\n",
    "import matplotlib.pyplot as plt\n",
    "import numpy as np\n",
    "import pickle\n",
    "import cv2\n",
    "import os\n",
    "import time"
   ]
  },
  {
   "cell_type": "code",
   "execution_count": 3,
   "id": "1da0944a",
   "metadata": {},
   "outputs": [],
   "source": [
    "INIT_LR = 1e-4\n",
    "BS = 8\n",
    "EPOCHS = 50"
   ]
  },
  {
   "cell_type": "code",
   "execution_count": 4,
   "id": "3577b5c8",
   "metadata": {},
   "outputs": [
    {
     "name": "stdout",
     "output_type": "stream",
     "text": [
      "[INFO] loading images...\n"
     ]
    }
   ],
   "source": [
    "print(\"[INFO] loading images...\")\n",
    "dataset =  (\"../dataset-ori/\")\n",
    "imagePaths = list(paths.list_images(dataset))\n",
    "data = []\n",
    "labels = []"
   ]
  },
  {
   "cell_type": "code",
   "execution_count": 5,
   "id": "e2bdc008",
   "metadata": {},
   "outputs": [],
   "source": [
    "# loop over all image paths\n",
    "for imagePath in imagePaths:\n",
    "\t# extract the class label from the filename, load the image and\n",
    "\t# resize it to be a fixed 32x32 pixels, ignoring aspect ratio\n",
    "\tlabel = imagePath.split(os.path.sep)[-2]\n",
    "\timage = cv2.imread(imagePath)\n",
    "\timage = cv2.resize(image, (32, 32))\n",
    "\n",
    "\t# update the data and labels lists, respectively\n",
    "\tdata.append(image)\n",
    "\tlabels.append(label)"
   ]
  },
  {
   "cell_type": "code",
   "execution_count": 6,
   "id": "d70383c8",
   "metadata": {},
   "outputs": [],
   "source": [
    "# convert the data into a NumPy array, then preprocess it by scaling\n",
    "# all pixel intensities to the range [0, 1]\n",
    "data = np.array(data, dtype=\"float\") / 255.0"
   ]
  },
  {
   "cell_type": "code",
   "execution_count": 7,
   "id": "661f735b",
   "metadata": {},
   "outputs": [],
   "source": [
    "# encode the labels (which are currently strings) as integers and then\n",
    "# one-hot encode them\n",
    "le = LabelEncoder()\n",
    "labels = le.fit_transform(labels)\n",
    "labels = to_categorical(labels, 2)"
   ]
  },
  {
   "cell_type": "code",
   "execution_count": 8,
   "id": "0053bfc7",
   "metadata": {},
   "outputs": [],
   "source": [
    "# partition the data into training and testing splits using 75% of\n",
    "# the data for training and the remaining 25% for testing\n",
    "(trainX, testX, trainY, testY) = train_test_split(data, labels,\n",
    "\ttest_size=0.25, random_state=42)\n",
    "# construct the training image generator for data augmentation\n",
    "aug = ImageDataGenerator(rotation_range=20, zoom_range=0.15,\n",
    "\twidth_shift_range=0.2, height_shift_range=0.2, shear_range=0.15,\n",
    "\thorizontal_flip=True, fill_mode=\"nearest\")"
   ]
  },
  {
   "cell_type": "code",
   "execution_count": 9,
   "id": "933b84a0",
   "metadata": {},
   "outputs": [
    {
     "name": "stdout",
     "output_type": "stream",
     "text": [
      "[INFO] compiling model...\n"
     ]
    },
    {
     "name": "stderr",
     "output_type": "stream",
     "text": [
      "/Users/dsisains/Documents/Projects/Current/ekyc-2022/liveness-res/color/lib/python3.7/site-packages/keras/optimizer_v2/adam.py:105: UserWarning: The `lr` argument is deprecated, use `learning_rate` instead.\n",
      "  super(Adam, self).__init__(name, **kwargs)\n",
      "2022-01-20 15:33:17.263121: I tensorflow/core/platform/cpu_feature_guard.cc:151] This TensorFlow binary is optimized with oneAPI Deep Neural Network Library (oneDNN) to use the following CPU instructions in performance-critical operations:  AVX2 AVX512F FMA\n",
      "To enable them in other operations, rebuild TensorFlow with the appropriate compiler flags.\n"
     ]
    }
   ],
   "source": [
    "# initialize the optimizer and model\n",
    "print(\"[INFO] compiling model...\")\n",
    "opt = Adam(lr=INIT_LR, decay=INIT_LR / EPOCHS)\n",
    "model = LivenessNet.build(width=32, height=32, depth=3,\n",
    "\tclasses=len(le.classes_))\n",
    "model.compile(loss=\"binary_crossentropy\", optimizer=opt,\n",
    "\tmetrics=[\"accuracy\"])"
   ]
  },
  {
   "cell_type": "code",
   "execution_count": 10,
   "id": "5088ae82",
   "metadata": {
    "scrolled": false
   },
   "outputs": [
    {
     "name": "stdout",
     "output_type": "stream",
     "text": [
      "[INFO] training network for 50 epochs...\n",
      "Epoch 1/50\n",
      "554/554 [==============================] - 13s 22ms/step - loss: 0.8990 - accuracy: 0.5831 - val_loss: 0.4219 - val_accuracy: 0.9115\n",
      "Epoch 2/50\n",
      "554/554 [==============================] - 12s 21ms/step - loss: 0.7047 - accuracy: 0.6932 - val_loss: 0.4022 - val_accuracy: 0.9257\n",
      "Epoch 3/50\n",
      "554/554 [==============================] - 11s 19ms/step - loss: 0.5695 - accuracy: 0.7754 - val_loss: 0.3706 - val_accuracy: 0.9358\n",
      "Epoch 4/50\n",
      "554/554 [==============================] - 10s 18ms/step - loss: 0.4672 - accuracy: 0.8460 - val_loss: 0.2979 - val_accuracy: 0.9466\n",
      "Epoch 5/50\n",
      "554/554 [==============================] - 10s 18ms/step - loss: 0.3885 - accuracy: 0.8858 - val_loss: 0.2506 - val_accuracy: 0.9446\n",
      "Epoch 6/50\n",
      "554/554 [==============================] - 10s 18ms/step - loss: 0.3172 - accuracy: 0.9169 - val_loss: 0.2059 - val_accuracy: 0.9534\n",
      "Epoch 7/50\n",
      "554/554 [==============================] - 10s 17ms/step - loss: 0.2724 - accuracy: 0.9280 - val_loss: 0.1879 - val_accuracy: 0.9520\n",
      "Epoch 8/50\n",
      "554/554 [==============================] - 9s 17ms/step - loss: 0.2455 - accuracy: 0.9339 - val_loss: 0.1764 - val_accuracy: 0.9480\n",
      "Epoch 9/50\n",
      "554/554 [==============================] - 9s 16ms/step - loss: 0.2374 - accuracy: 0.9341 - val_loss: 0.1608 - val_accuracy: 0.9554\n",
      "Epoch 10/50\n",
      "554/554 [==============================] - 10s 18ms/step - loss: 0.2167 - accuracy: 0.9377 - val_loss: 0.1647 - val_accuracy: 0.9547\n",
      "Epoch 11/50\n",
      "554/554 [==============================] - 25s 18ms/step - loss: 0.1958 - accuracy: 0.9440 - val_loss: 0.1635 - val_accuracy: 0.9520\n",
      "Epoch 12/50\n",
      "554/554 [==============================] - 11s 20ms/step - loss: 0.1916 - accuracy: 0.9458 - val_loss: 0.1551 - val_accuracy: 0.9574\n",
      "Epoch 13/50\n",
      "554/554 [==============================] - 11s 20ms/step - loss: 0.1852 - accuracy: 0.9467 - val_loss: 0.1443 - val_accuracy: 0.9507\n",
      "Epoch 14/50\n",
      "554/554 [==============================] - 10s 19ms/step - loss: 0.1848 - accuracy: 0.9497 - val_loss: 0.1381 - val_accuracy: 0.9588\n",
      "Epoch 15/50\n",
      "554/554 [==============================] - 11s 20ms/step - loss: 0.1780 - accuracy: 0.9465 - val_loss: 0.1368 - val_accuracy: 0.9561\n",
      "Epoch 16/50\n",
      "554/554 [==============================] - 11s 20ms/step - loss: 0.1861 - accuracy: 0.9440 - val_loss: 0.1394 - val_accuracy: 0.9547\n",
      "Epoch 17/50\n",
      "554/554 [==============================] - 10s 18ms/step - loss: 0.1720 - accuracy: 0.9494 - val_loss: 0.1763 - val_accuracy: 0.9473\n",
      "Epoch 18/50\n",
      "554/554 [==============================] - 9s 16ms/step - loss: 0.1681 - accuracy: 0.9499 - val_loss: 0.1383 - val_accuracy: 0.9568\n",
      "Epoch 19/50\n",
      "554/554 [==============================] - 10s 17ms/step - loss: 0.1680 - accuracy: 0.9519 - val_loss: 0.1399 - val_accuracy: 0.9541\n",
      "Epoch 20/50\n",
      "554/554 [==============================] - 9s 17ms/step - loss: 0.1580 - accuracy: 0.9528 - val_loss: 0.1218 - val_accuracy: 0.9561\n",
      "Epoch 21/50\n",
      "554/554 [==============================] - 9s 17ms/step - loss: 0.1529 - accuracy: 0.9517 - val_loss: 0.1190 - val_accuracy: 0.9601\n",
      "Epoch 22/50\n",
      "554/554 [==============================] - 11s 20ms/step - loss: 0.1682 - accuracy: 0.9501 - val_loss: 0.1340 - val_accuracy: 0.9574\n",
      "Epoch 23/50\n",
      "554/554 [==============================] - 11s 20ms/step - loss: 0.1658 - accuracy: 0.9488 - val_loss: 0.1197 - val_accuracy: 0.9595\n",
      "Epoch 24/50\n",
      "554/554 [==============================] - 10s 18ms/step - loss: 0.1638 - accuracy: 0.9501 - val_loss: 0.1099 - val_accuracy: 0.9662\n",
      "Epoch 25/50\n",
      "554/554 [==============================] - 11s 20ms/step - loss: 0.1585 - accuracy: 0.9515 - val_loss: 0.1498 - val_accuracy: 0.9628\n",
      "Epoch 26/50\n",
      "554/554 [==============================] - 10s 18ms/step - loss: 0.1596 - accuracy: 0.9503 - val_loss: 0.1295 - val_accuracy: 0.9628\n",
      "Epoch 27/50\n",
      "554/554 [==============================] - 12s 21ms/step - loss: 0.1456 - accuracy: 0.9553 - val_loss: 0.1217 - val_accuracy: 0.9649\n",
      "Epoch 28/50\n",
      "554/554 [==============================] - 11s 20ms/step - loss: 0.1499 - accuracy: 0.9546 - val_loss: 0.1172 - val_accuracy: 0.9622\n",
      "Epoch 29/50\n",
      "554/554 [==============================] - 10s 18ms/step - loss: 0.1528 - accuracy: 0.9530 - val_loss: 0.1313 - val_accuracy: 0.9655\n",
      "Epoch 30/50\n",
      "554/554 [==============================] - 11s 19ms/step - loss: 0.1507 - accuracy: 0.9521 - val_loss: 0.1125 - val_accuracy: 0.9581\n",
      "Epoch 31/50\n",
      "554/554 [==============================] - 11s 20ms/step - loss: 0.1572 - accuracy: 0.9503 - val_loss: 0.1156 - val_accuracy: 0.9635\n",
      "Epoch 32/50\n",
      "554/554 [==============================] - 12s 21ms/step - loss: 0.1453 - accuracy: 0.9569 - val_loss: 0.0997 - val_accuracy: 0.9682\n",
      "Epoch 33/50\n",
      "554/554 [==============================] - 10s 19ms/step - loss: 0.1440 - accuracy: 0.9562 - val_loss: 0.1194 - val_accuracy: 0.9615\n",
      "Epoch 34/50\n",
      "554/554 [==============================] - 9s 17ms/step - loss: 0.1445 - accuracy: 0.9551 - val_loss: 0.0944 - val_accuracy: 0.9689\n",
      "Epoch 35/50\n",
      "554/554 [==============================] - 9s 17ms/step - loss: 0.1384 - accuracy: 0.9537 - val_loss: 0.0978 - val_accuracy: 0.9709\n",
      "Epoch 36/50\n",
      "554/554 [==============================] - 9s 17ms/step - loss: 0.1439 - accuracy: 0.9542 - val_loss: 0.0936 - val_accuracy: 0.9709\n",
      "Epoch 37/50\n",
      "554/554 [==============================] - 10s 18ms/step - loss: 0.1338 - accuracy: 0.9551 - val_loss: 0.0928 - val_accuracy: 0.9709\n",
      "Epoch 38/50\n",
      "554/554 [==============================] - 10s 18ms/step - loss: 0.1337 - accuracy: 0.9582 - val_loss: 0.1143 - val_accuracy: 0.9689\n",
      "Epoch 39/50\n",
      "554/554 [==============================] - 10s 18ms/step - loss: 0.1340 - accuracy: 0.9555 - val_loss: 0.1310 - val_accuracy: 0.9669\n",
      "Epoch 40/50\n",
      "554/554 [==============================] - 9s 17ms/step - loss: 0.1434 - accuracy: 0.9549 - val_loss: 0.0988 - val_accuracy: 0.9669\n",
      "Epoch 41/50\n",
      "554/554 [==============================] - 9s 17ms/step - loss: 0.1367 - accuracy: 0.9582 - val_loss: 0.1066 - val_accuracy: 0.9723\n",
      "Epoch 42/50\n",
      "554/554 [==============================] - 9s 16ms/step - loss: 0.1292 - accuracy: 0.9578 - val_loss: 0.0833 - val_accuracy: 0.9716\n",
      "Epoch 43/50\n",
      "554/554 [==============================] - 9s 17ms/step - loss: 0.1311 - accuracy: 0.9573 - val_loss: 0.0888 - val_accuracy: 0.9736\n",
      "Epoch 44/50\n",
      "554/554 [==============================] - 10s 18ms/step - loss: 0.1332 - accuracy: 0.9567 - val_loss: 0.0943 - val_accuracy: 0.9743\n",
      "Epoch 45/50\n",
      "554/554 [==============================] - 10s 19ms/step - loss: 0.1319 - accuracy: 0.9582 - val_loss: 0.0885 - val_accuracy: 0.9730\n",
      "Epoch 46/50\n",
      "554/554 [==============================] - 10s 18ms/step - loss: 0.1340 - accuracy: 0.9564 - val_loss: 0.0840 - val_accuracy: 0.9709\n",
      "Epoch 47/50\n",
      "554/554 [==============================] - 10s 18ms/step - loss: 0.1316 - accuracy: 0.9567 - val_loss: 0.1269 - val_accuracy: 0.9655\n",
      "Epoch 48/50\n",
      "554/554 [==============================] - 9s 17ms/step - loss: 0.1255 - accuracy: 0.9589 - val_loss: 0.1205 - val_accuracy: 0.9642\n",
      "Epoch 49/50\n",
      "554/554 [==============================] - 10s 18ms/step - loss: 0.1315 - accuracy: 0.9560 - val_loss: 0.0971 - val_accuracy: 0.9696\n",
      "Epoch 50/50\n",
      "554/554 [==============================] - 10s 18ms/step - loss: 0.1258 - accuracy: 0.9605 - val_loss: 0.0798 - val_accuracy: 0.9757\n",
      "[INFO] evaluating network...\n",
      "              precision    recall  f1-score   support\n",
      "\n",
      "        fake       0.94      0.78      0.85       131\n",
      "        real       0.98      0.99      0.99      1349\n",
      "\n",
      "    accuracy                           0.98      1480\n",
      "   macro avg       0.96      0.89      0.92      1480\n",
      "weighted avg       0.98      0.98      0.97      1480\n",
      "\n",
      "[INFO] serializing network to '../res/model/liveness.model'...\n",
      "total time for training = 1642663997.47508\n"
     ]
    }
   ],
   "source": [
    "# train the network\n",
    "print(\"[INFO] training network for {} epochs...\".format(EPOCHS))\n",
    "seconds = time.time()\n",
    "H = model.fit(x=aug.flow(trainX, trainY, batch_size=BS),\n",
    "\tvalidation_data=(testX, testY), steps_per_epoch=len(trainX) // BS, epochs=EPOCHS)\n",
    "\n",
    "# evaluate the network\n",
    "print(\"[INFO] evaluating network...\")\n",
    "predictions = model.predict(x=testX, batch_size=BS)\n",
    "report = (classification_report(testY.argmax(axis=1), predictions.argmax(axis=1), target_names=le.classes_))\n",
    "print(report)\n",
    "# print(classification_report(testY.argmax(axis=1),\n",
    "# \tpredictions.argmax(axis=1), target_names=le.classes_))\n",
    "# save the network to disk\n",
    "model_path =  \"../res/model/liveness.model\" #specify path\n",
    "print(\"[INFO] serializing network to '{}'...\".format(model_path))\n",
    "model.save(model_path, save_format=\"h5\")\n",
    "# save the label encoder to disk\n",
    "f = open(\"../res/model/le.pickle\", \"wb\")  #specify directory\n",
    "f.write(pickle.dumps(le))\n",
    "f.close()\n",
    "print(\"total time for training =\", seconds)\t"
   ]
  },
  {
   "cell_type": "code",
   "execution_count": 11,
   "id": "060cf585",
   "metadata": {},
   "outputs": [],
   "source": [
    "# plot the training loss and accuracy\n",
    "# plot = str('../res/model/plot.png')\n",
    "# plt.style.use(\"ggplot\")\n",
    "# plt.figure()\n",
    "# plt.plot(np.arange(0, EPOCHS), H.history[\"loss\"], label=\"train_loss\")\n",
    "# plt.plot(np.arange(0, EPOCHS), H.history[\"val_loss\"], label=\"val_loss\")\n",
    "# plt.plot(np.arange(0, EPOCHS), H.history[\"accuracy\"], label=\"train_acc\")\n",
    "# plt.plot(np.arange(0, EPOCHS), H.history[\"val_accuracy\"], label=\"val_acc\")\n",
    "# plt.title(\"Training Loss and Accuracy on Dataset\")\n",
    "# plt.xlabel(\"Epoch #\")\n",
    "# plt.ylabel(\"Loss/Accuracy\")\n",
    "# plt.legend(loc=\"lower left\")\n",
    "# plt.savefig(plot)"
   ]
  },
  {
   "cell_type": "code",
   "execution_count": 12,
   "id": "cade826a",
   "metadata": {},
   "outputs": [
    {
     "data": {
      "image/png": "[encoded data removed]",
      "text/plain": [
       "<Figure size 432x288 with 1 Axes>"
      ]
     },
     "metadata": {},
     "output_type": "display_data"
    }
   ],
   "source": [
    "# plot the training loss and accuracy -- in notebook\n",
    "# plot = str('../res/model/plot.png')\n",
    "plt.style.use(\"ggplot\")\n",
    "plt.figure()\n",
    "plt.plot(np.arange(0, EPOCHS), H.history[\"loss\"], label=\"train_loss\")\n",
    "plt.plot(np.arange(0, EPOCHS), H.history[\"val_loss\"], label=\"val_loss\")\n",
    "plt.plot(np.arange(0, EPOCHS), H.history[\"accuracy\"], label=\"train_acc\")\n",
    "plt.plot(np.arange(0, EPOCHS), H.history[\"val_accuracy\"], label=\"val_acc\")\n",
    "plt.title(\"Training Loss and Accuracy on Dataset\")\n",
    "plt.xlabel(\"Epoch #\")\n",
    "plt.ylabel(\"Loss/Accuracy\")\n",
    "plt.legend(loc=\"lower left\")\n",
    "plt.show()\n",
    "# plt.savefig(plot)"
   ]
  }
 ],
 "metadata": {
  "kernelspec": {
   "display_name": "Python 3 (ipykernel)",
   "language": "python",
   "name": "python3"
  },
  "language_info": {
   "codemirror_mode": {
    "name": "ipython",
    "version": 3
   },
   "file_extension": ".py",
   "mimetype": "text/x-python",
   "name": "python",
   "nbconvert_exporter": "python",
   "pygments_lexer": "ipython3",
   "version": "3.7.9"
  }
 },
 "nbformat": 4,
 "nbformat_minor": 5
}
